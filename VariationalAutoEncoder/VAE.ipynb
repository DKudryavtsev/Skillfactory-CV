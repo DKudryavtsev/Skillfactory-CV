{
  "cells": [
    {
      "cell_type": "markdown",
      "metadata": {
        "id": "KGkfdVHFlvEy"
      },
      "source": [
        "# Импорт библиотек"
      ]
    },
    {
      "cell_type": "code",
      "execution_count": 1,
      "metadata": {
        "id": "C1SgOu3ZEy8k"
      },
      "outputs": [],
      "source": [
        "#########1#########2#########3#########4#########5#########6#########7#########\n",
        "\n",
        "import torch\n",
        "import torch.nn as nn\n",
        "import torch.nn.functional as F\n",
        "import scipy.io\n",
        "import torch\n",
        "import torch.optim as optim\n",
        "import torch.nn as nn\n",
        "import os\n",
        "from torch.utils.data import DataLoader, Dataset\n",
        "from tqdm import tqdm\n",
        "from torchvision.utils import save_image\n",
        "from torchsummary import summary"
      ]
    },
    {
      "cell_type": "markdown",
      "metadata": {
        "id": "GpQcVlcpl0ds"
      },
      "source": [
        "# Загрузка данных"
      ]
    },
    {
      "cell_type": "code",
      "execution_count": 2,
      "metadata": {
        "colab": {
          "base_uri": "https://localhost:8080/"
        },
        "id": "1b5MZAj0FWgM",
        "outputId": "7eac4b7b-1bf3-4b08-f9a2-64e2698ff021"
      },
      "outputs": [
        {
          "name": "stdout",
          "output_type": "stream",
          "text": [
            "Number of instances: 1965\n"
          ]
        }
      ],
      "source": [
        "# Переведем данные в привычный нам NumPy формат\n",
        "mat_data = scipy.io.loadmat('./frey_rawface.mat')\n",
        "data = mat_data['ff'].T.reshape(-1, 1, 28, 20)\n",
        "data = data.astype('float32') / 255.0\n",
        "print(f\"Number of instances: {len(data)}\")"
      ]
    },
    {
      "cell_type": "code",
      "execution_count": 3,
      "metadata": {
        "id": "av1ZCYNMFd9e"
      },
      "outputs": [],
      "source": [
        "# Подготовка torch датасета\n",
        "class FreyDataset(Dataset):\n",
        "    def __init__(self, X):\n",
        "        self.X = X\n",
        "    \n",
        "    \n",
        "    def __len__(self):\n",
        "        return (len(self.X))\n",
        "    \n",
        "    \n",
        "    def __getitem__(self, index):\n",
        "        data = self.X[index]\n",
        "        return torch.tensor(data, dtype=torch.float)"
      ]
    },
    {
      "cell_type": "markdown",
      "metadata": {
        "id": "od9bw76EmUdA"
      },
      "source": [
        "## Задание 1. Разделите данные на `train` и `val` части. К `val` отнесите последние 300 объектов. Подготовьте данные для обучения с помощью `FreyDataset` и `DataLoader`."
      ]
    },
    {
      "cell_type": "code",
      "execution_count": 4,
      "metadata": {
        "id": "2AuayEE0nRXd"
      },
      "outputs": [
        {
          "name": "stdout",
          "output_type": "stream",
          "text": [
            "Training instances: 1665\n",
            "Validation instances: 300\n"
          ]
        }
      ],
      "source": [
        "x_train = FreyDataset(data[:-300])\n",
        "x_val = FreyDataset(data[-300:])\n",
        "print(f\"Training instances: {len(x_train)}\")\n",
        "print(f\"Validation instances: {len(x_val)}\")"
      ]
    },
    {
      "cell_type": "code",
      "execution_count": 5,
      "metadata": {
        "id": "a2HbjBh4n5Pn"
      },
      "outputs": [],
      "source": [
        "batch_size = 64\n",
        "num_workers = os.cpu_count()\n",
        "\n",
        "train_loader = DataLoader(\n",
        "    x_train, batch_size=batch_size, shuffle=True, num_workers=num_workers)\n",
        "val_loader = DataLoader(\n",
        "    x_val, batch_size=batch_size, shuffle=True, num_workers=num_workers)"
      ]
    },
    {
      "cell_type": "code",
      "execution_count": 6,
      "metadata": {
        "id": "XD5VOPC6FMg4"
      },
      "outputs": [],
      "source": [
        "kernel_size = 4\n",
        "stride = 1\n",
        "padding = 0\n",
        "init_kernel = 16 "
      ]
    },
    {
      "cell_type": "markdown",
      "metadata": {
        "id": "U2Y6EtzxpHrk"
      },
      "source": [
        "# Вариационныей автоэнкодер"
      ]
    },
    {
      "cell_type": "markdown",
      "metadata": {
        "id": "vre-OvcUx4le"
      },
      "source": [
        "## Задание 2. Допишите трюк репараметризации в функции `reparameterize`. \n",
        "\n",
        "*Подробнее о трюке можно узнать в [дополнительных материалах](https://drive.google.com/file/d/18LWM4jROW6A89B7XEpH6w66M5BomGUKn/view?usp=sharing).*\n",
        "\n",
        "В материалах ошибка - нужно $z=\\mu(x)+\\sigma(x)\\zeta,~\\zeta\\sim\\mathcal{N}(0,1)$ (например, https://gregorygundersen.com/blog/2018/04/29/reparameterization/). В архитектуру стоило бы добавить полносвязный слой и сэмплировать $\\mu$ и $\\sigma$ из него так, чтобы $\\mu\\neq\\sigma$. В данном примере оставляю, как есть: латентные переменные $\\mu=\\sigma$ берутся непосредственно из четырехмерного тензора [B, C, H, W] - результата последней свертки энкодера."
      ]
    },
    {
      "cell_type": "code",
      "execution_count": 7,
      "metadata": {
        "id": "S584SqI9yepn"
      },
      "outputs": [],
      "source": [
        "class ConvVAE(nn.Module):\n",
        "    def __init__(self):\n",
        "        super(ConvVAE, self).__init__()\n",
        " \n",
        "        # энкодер\n",
        "        self.enc1 = nn.Conv2d(\n",
        "            in_channels=1, out_channels=init_kernel, kernel_size=kernel_size, \n",
        "            stride=stride, padding=padding\n",
        "        )\n",
        "        self.enc2 = nn.Conv2d(\n",
        "            in_channels=init_kernel, out_channels=init_kernel*2, \n",
        "            kernel_size=kernel_size, stride=stride, padding=padding\n",
        "        )\n",
        "        self.enc3 = nn.Conv2d(\n",
        "            in_channels=init_kernel*2, out_channels=init_kernel*4, \n",
        "            kernel_size=kernel_size, stride=stride, padding=padding\n",
        "        )\n",
        "        self.enc4 = nn.Conv2d(\n",
        "            in_channels=init_kernel*4, out_channels=init_kernel*8, \n",
        "            kernel_size=kernel_size, stride=stride, padding=padding\n",
        "        )\n",
        "        self.enc5 = nn.Conv2d(\n",
        "            in_channels=init_kernel*8, out_channels=init_kernel, \n",
        "            kernel_size=kernel_size, stride=stride, padding=padding\n",
        "        )\n",
        "                                      \n",
        "        # декодер \n",
        "        self.dec1 = nn.ConvTranspose2d(\n",
        "            in_channels=init_kernel, out_channels=init_kernel*8, \n",
        "            kernel_size=kernel_size, stride=stride, padding=padding\n",
        "        )\n",
        "        self.dec2 = nn.ConvTranspose2d(\n",
        "            in_channels=init_kernel*8, out_channels=init_kernel*4, \n",
        "            kernel_size=kernel_size, stride=stride, padding=padding\n",
        "        )\n",
        "        self.dec3 = nn.ConvTranspose2d(\n",
        "            in_channels=init_kernel*4, out_channels=init_kernel*2, \n",
        "            kernel_size=kernel_size, stride=stride, padding=padding\n",
        "        )\n",
        "        self.dec4 = nn.ConvTranspose2d(\n",
        "            in_channels=init_kernel*2, out_channels=init_kernel, \n",
        "            kernel_size=kernel_size, stride=stride, padding=padding\n",
        "        )\n",
        "        self.dec5 = nn.ConvTranspose2d(\n",
        "            in_channels=init_kernel, out_channels=1, \n",
        "            kernel_size=kernel_size, stride=stride, padding=padding\n",
        "        )\n",
        "                \n",
        "    \n",
        "    def reparameterize(self, mu, logvar):\n",
        "        # according to loss function (see below)\n",
        "        std = torch.exp(0.5*logvar) \n",
        "        eps = torch.randn_like(std)\n",
        "        sample = mu + eps*std\n",
        "                        \n",
        "        return sample\n",
        " \n",
        "    \n",
        "    def forward(self, x):\n",
        "        # кодирование\n",
        "        x = F.relu(self.enc1(x))\n",
        "        x = F.relu(self.enc2(x))\n",
        "        x = F.relu(self.enc3(x))\n",
        "        x = F.relu(self.enc4(x))\n",
        "        x = self.enc5(x)\n",
        "        # сэмплирование среднего и logvar\n",
        "        mu = x\n",
        "        logvar = x\n",
        "        # получаем латентное представление через репараметризацию\n",
        "        z = self.reparameterize(mu, logvar)\n",
        "         \n",
        "        # декодирование\n",
        "        x = F.relu(self.dec1(z))\n",
        "        x = F.relu(self.dec2(x))\n",
        "        x = F.relu(self.dec3(x))\n",
        "        x = F.relu(self.dec4(x))\n",
        "        reconstruction = torch.sigmoid(self.dec5(x))\n",
        "        return reconstruction, mu, logvar"
      ]
    },
    {
      "cell_type": "code",
      "execution_count": 10,
      "metadata": {
        "id": "xBTEiLHHFO7P"
      },
      "outputs": [],
      "source": [
        "lr = 0.001\n",
        "epochs = 20\n",
        "device = torch.device('cuda' if torch.cuda.is_available() else 'cpu')"
      ]
    },
    {
      "cell_type": "code",
      "execution_count": 11,
      "metadata": {
        "id": "acRIw67VFimf"
      },
      "outputs": [],
      "source": [
        "model = ConvVAE().to(device)\n",
        "optimizer = optim.Adam(model.parameters(), lr=lr)\n",
        "#criterion = nn.BCELoss(reduction='sum')\n",
        "criterion = nn.MSELoss()  # быстрее сходится"
      ]
    },
    {
      "cell_type": "markdown",
      "metadata": {
        "id": "uQr9FPCky9rD"
      },
      "source": [
        "## Задание 3. Прежде, чем перейти к обучению модели, определите функцию потерь VAE."
      ]
    },
    {
      "cell_type": "markdown",
      "metadata": {},
      "source": [
        "Минимизируем расхождение между нормальным распределением $p(\\boldsymbol{z}) = \\mathcal{N}(0, \\boldsymbol{I})$ и нормальным распределением $q(\\boldsymbol{z}|\\boldsymbol{x})$, полученным из параметров $\\boldsymbol{\\mu, \\sigma}$. Согласно [оригинальной статье](https://arxiv.org/pdf/1312.6114.pdf) (приложение B), дивергенция Кульбака-Лейблера (Kullback–Leibler divergence) в этом случае: \n",
        "$$D_{\\rm KL}(q(\\boldsymbol{z}|\\boldsymbol{x})||p(\\boldsymbol{z}))=-\\frac{1}{2}\\sum_{j=1}^{J}\\left[1+\\log\\sigma_i^2-\\mu_i^2-\\sigma_i^2\\right],$$ \n",
        "где $J$ - размерность латентного пространства. В коде ниже задаем, что энкодер будет выдавать значения $\\mu_i$ и $\\log{\\rm variance}\\equiv\\log\\sigma_i^2$."
      ]
    },
    {
      "cell_type": "code",
      "execution_count": 12,
      "metadata": {
        "id": "GBGRkng8zMqs"
      },
      "outputs": [],
      "source": [
        "def final_loss(reconstruction_loss, mu, logvar):\n",
        "    kld = -0.5 * torch.sum(1 + logvar - mu.pow(2) - logvar.exp())\n",
        "    loss = reconstruction_loss + kld\n",
        "    \n",
        "    return loss"
      ]
    },
    {
      "cell_type": "markdown",
      "metadata": {
        "id": "1iTeFIy1zb9f"
      },
      "source": [
        "## Обучение модели"
      ]
    },
    {
      "cell_type": "code",
      "execution_count": 13,
      "metadata": {
        "id": "2Pr8lM_OFsE0"
      },
      "outputs": [],
      "source": [
        "def fit(model, dataloader):\n",
        "    model.train()\n",
        "    running_loss = 0.0\n",
        "    for i, data in tqdm(enumerate(dataloader), \n",
        "                        total=int(len(x_train)/dataloader.batch_size)):\n",
        "        data= data\n",
        "        data = data.to(device)\n",
        "        data = data\n",
        "        optimizer.zero_grad()\n",
        "        reconstruction, mu, logvar = model(data)\n",
        "        reconstruction_loss = criterion(reconstruction, data)\n",
        "        loss = final_loss(reconstruction_loss, mu, logvar)\n",
        "        loss.backward()\n",
        "        running_loss += loss.item()\n",
        "        optimizer.step()                \n",
        "    train_loss = running_loss/len(dataloader.dataset)\n",
        "    return train_loss"
      ]
    },
    {
      "cell_type": "code",
      "execution_count": 14,
      "metadata": {
        "id": "Hj2NsdvRFu5x"
      },
      "outputs": [],
      "source": [
        "def validate(model, dataloader, epoch):\n",
        "    model.eval()\n",
        "    running_loss = 0.0\n",
        "    with torch.no_grad():\n",
        "        for i, data in tqdm(enumerate(dataloader), \n",
        "                            total=int(len(x_val)/dataloader.batch_size)):\n",
        "            data= data\n",
        "            data = data.to(device)\n",
        "            data = data\n",
        "            reconstruction, mu, logvar = model(data)\n",
        "            reconstruction_loss = criterion(reconstruction, data)\n",
        "            loss = final_loss(reconstruction_loss, mu, logvar)\n",
        "            running_loss += loss.item()\n",
        "        \n",
        "            # save the last batch input and output of every epoch\n",
        "            if i == int(len(x_val)/dataloader.batch_size) - 1:\n",
        "                num_rows = 8\n",
        "                both = torch.cat((data[:8], \n",
        "                                  reconstruction[:8]))\n",
        "                save_image(\n",
        "                    both.cpu(), f'./figs/output{epoch}.png', nrow=num_rows)\n",
        "    val_loss = running_loss/len(dataloader.dataset)\n",
        "    return val_loss"
      ]
    },
    {
      "cell_type": "code",
      "execution_count": 15,
      "metadata": {
        "colab": {
          "base_uri": "https://localhost:8080/"
        },
        "id": "bYsIi6hIFyTd",
        "outputId": "61e9bd16-deda-490a-ad40-6bba757d7bbe"
      },
      "outputs": [
        {
          "name": "stdout",
          "output_type": "stream",
          "text": [
            "Epoch 1 of 20\n"
          ]
        },
        {
          "name": "stderr",
          "output_type": "stream",
          "text": [
            "27it [00:01, 17.07it/s]                        \n",
            "5it [00:00, 53.83it/s]               "
          ]
        },
        {
          "name": "stdout",
          "output_type": "stream",
          "text": [
            "Train Loss: 0.0221\n",
            "Val Loss: 0.0011\n",
            "Epoch 2 of 20\n"
          ]
        },
        {
          "name": "stderr",
          "output_type": "stream",
          "text": [
            "\n",
            "27it [00:00, 38.55it/s]                        \n",
            "5it [00:00, 57.04it/s]               "
          ]
        },
        {
          "name": "stdout",
          "output_type": "stream",
          "text": [
            "Train Loss: 0.0005\n",
            "Val Loss: 0.0003\n",
            "Epoch 3 of 20\n"
          ]
        },
        {
          "name": "stderr",
          "output_type": "stream",
          "text": [
            "\n",
            "27it [00:00, 38.43it/s]                        \n",
            "5it [00:00, 63.49it/s]               "
          ]
        },
        {
          "name": "stdout",
          "output_type": "stream",
          "text": [
            "Train Loss: 0.0003\n",
            "Val Loss: 0.0003\n",
            "Epoch 4 of 20\n"
          ]
        },
        {
          "name": "stderr",
          "output_type": "stream",
          "text": [
            "\n",
            "27it [00:00, 38.26it/s]                        \n",
            "5it [00:00, 53.50it/s]               "
          ]
        },
        {
          "name": "stdout",
          "output_type": "stream",
          "text": [
            "Train Loss: 0.0002\n",
            "Val Loss: 0.0002\n",
            "Epoch 5 of 20\n"
          ]
        },
        {
          "name": "stderr",
          "output_type": "stream",
          "text": [
            "\n",
            "27it [00:00, 38.98it/s]                        \n",
            "5it [00:00, 58.91it/s]               "
          ]
        },
        {
          "name": "stdout",
          "output_type": "stream",
          "text": [
            "Train Loss: 0.0002\n",
            "Val Loss: 0.0003\n",
            "Epoch 6 of 20\n"
          ]
        },
        {
          "name": "stderr",
          "output_type": "stream",
          "text": [
            "\n",
            "27it [00:00, 38.46it/s]                        \n",
            "5it [00:00, 58.53it/s]               "
          ]
        },
        {
          "name": "stdout",
          "output_type": "stream",
          "text": [
            "Train Loss: 0.0002\n",
            "Val Loss: 0.0002\n",
            "Epoch 7 of 20\n"
          ]
        },
        {
          "name": "stderr",
          "output_type": "stream",
          "text": [
            "\n",
            "27it [00:00, 37.30it/s]                        \n",
            "5it [00:00, 60.01it/s]               "
          ]
        },
        {
          "name": "stdout",
          "output_type": "stream",
          "text": [
            "Train Loss: 0.0002\n",
            "Val Loss: 0.0002\n",
            "Epoch 8 of 20\n"
          ]
        },
        {
          "name": "stderr",
          "output_type": "stream",
          "text": [
            "\n",
            "27it [00:00, 37.88it/s]                        \n",
            "5it [00:00, 54.49it/s]               "
          ]
        },
        {
          "name": "stdout",
          "output_type": "stream",
          "text": [
            "Train Loss: 0.0002\n",
            "Val Loss: 0.0002\n",
            "Epoch 9 of 20\n"
          ]
        },
        {
          "name": "stderr",
          "output_type": "stream",
          "text": [
            "\n",
            "27it [00:00, 37.74it/s]                        \n",
            "5it [00:00, 52.27it/s]               "
          ]
        },
        {
          "name": "stdout",
          "output_type": "stream",
          "text": [
            "Train Loss: 0.0002\n",
            "Val Loss: 0.0002\n",
            "Epoch 10 of 20\n"
          ]
        },
        {
          "name": "stderr",
          "output_type": "stream",
          "text": [
            "\n",
            "27it [00:00, 38.33it/s]                        \n",
            "5it [00:00, 60.10it/s]               "
          ]
        },
        {
          "name": "stdout",
          "output_type": "stream",
          "text": [
            "Train Loss: 0.0002\n",
            "Val Loss: 0.0002\n",
            "Epoch 11 of 20\n"
          ]
        },
        {
          "name": "stderr",
          "output_type": "stream",
          "text": [
            "\n",
            "27it [00:00, 38.16it/s]                        \n",
            "5it [00:00, 51.87it/s]               "
          ]
        },
        {
          "name": "stdout",
          "output_type": "stream",
          "text": [
            "Train Loss: 0.0002\n",
            "Val Loss: 0.0002\n",
            "Epoch 12 of 20\n"
          ]
        },
        {
          "name": "stderr",
          "output_type": "stream",
          "text": [
            "\n",
            "27it [00:00, 38.44it/s]                        \n",
            "5it [00:00, 55.31it/s]               "
          ]
        },
        {
          "name": "stdout",
          "output_type": "stream",
          "text": [
            "Train Loss: 0.0002\n",
            "Val Loss: 0.0002\n",
            "Epoch 13 of 20\n"
          ]
        },
        {
          "name": "stderr",
          "output_type": "stream",
          "text": [
            "\n",
            "27it [00:00, 38.36it/s]                        \n",
            "5it [00:00, 52.86it/s]               "
          ]
        },
        {
          "name": "stdout",
          "output_type": "stream",
          "text": [
            "Train Loss: 0.0002\n",
            "Val Loss: 0.0002\n",
            "Epoch 14 of 20\n"
          ]
        },
        {
          "name": "stderr",
          "output_type": "stream",
          "text": [
            "\n",
            "27it [00:00, 38.68it/s]                        \n",
            "5it [00:00, 60.33it/s]               "
          ]
        },
        {
          "name": "stdout",
          "output_type": "stream",
          "text": [
            "Train Loss: 0.0002\n",
            "Val Loss: 0.0002\n",
            "Epoch 15 of 20\n"
          ]
        },
        {
          "name": "stderr",
          "output_type": "stream",
          "text": [
            "\n",
            "27it [00:00, 38.75it/s]                        \n",
            "5it [00:00, 56.06it/s]               "
          ]
        },
        {
          "name": "stdout",
          "output_type": "stream",
          "text": [
            "Train Loss: 0.0002\n",
            "Val Loss: 0.0002\n",
            "Epoch 16 of 20\n"
          ]
        },
        {
          "name": "stderr",
          "output_type": "stream",
          "text": [
            "\n",
            "27it [00:00, 37.79it/s]                        \n",
            "5it [00:00, 53.11it/s]               "
          ]
        },
        {
          "name": "stdout",
          "output_type": "stream",
          "text": [
            "Train Loss: 0.0002\n",
            "Val Loss: 0.0002\n",
            "Epoch 17 of 20\n"
          ]
        },
        {
          "name": "stderr",
          "output_type": "stream",
          "text": [
            "\n",
            "27it [00:00, 38.66it/s]                        \n",
            "5it [00:00, 58.50it/s]               "
          ]
        },
        {
          "name": "stdout",
          "output_type": "stream",
          "text": [
            "Train Loss: 0.0002\n",
            "Val Loss: 0.0002\n",
            "Epoch 18 of 20\n"
          ]
        },
        {
          "name": "stderr",
          "output_type": "stream",
          "text": [
            "\n",
            "27it [00:00, 37.95it/s]                        \n",
            "5it [00:00, 54.74it/s]               "
          ]
        },
        {
          "name": "stdout",
          "output_type": "stream",
          "text": [
            "Train Loss: 0.0002\n",
            "Val Loss: 0.0002\n",
            "Epoch 19 of 20\n"
          ]
        },
        {
          "name": "stderr",
          "output_type": "stream",
          "text": [
            "\n",
            "27it [00:00, 37.89it/s]                        \n",
            "5it [00:00, 58.97it/s]               "
          ]
        },
        {
          "name": "stdout",
          "output_type": "stream",
          "text": [
            "Train Loss: 0.0002\n",
            "Val Loss: 0.0002\n",
            "Epoch 20 of 20\n"
          ]
        },
        {
          "name": "stderr",
          "output_type": "stream",
          "text": [
            "\n",
            "27it [00:00, 38.53it/s]                        \n",
            "5it [00:00, 61.65it/s]               "
          ]
        },
        {
          "name": "stdout",
          "output_type": "stream",
          "text": [
            "Train Loss: 0.0002\n",
            "Val Loss: 0.0002\n"
          ]
        },
        {
          "name": "stderr",
          "output_type": "stream",
          "text": [
            "\n"
          ]
        }
      ],
      "source": [
        "train_loss = []\n",
        "val_loss = []\n",
        "for epoch in range(epochs):\n",
        "    print(f\"Epoch {epoch+1} of {epochs}\")\n",
        "    train_epoch_loss = fit(model, train_loader)\n",
        "    val_epoch_loss = validate(model, val_loader, epoch)\n",
        "    train_loss.append(train_epoch_loss)\n",
        "    val_loss.append(val_epoch_loss)\n",
        "    print(f\"Train Loss: {train_epoch_loss:.4f}\")\n",
        "    print(f\"Val Loss: {val_epoch_loss:.4f}\")"
      ]
    },
    {
      "cell_type": "markdown",
      "metadata": {
        "id": "dUIh-Xc00xsV"
      },
      "source": [
        "## Визуализация полученных изображений"
      ]
    },
    {
      "cell_type": "code",
      "execution_count": 16,
      "metadata": {
        "id": "Kj-8SpDJzsoV"
      },
      "outputs": [],
      "source": [
        "from PIL import Image\n",
        "import matplotlib.pyplot as plt"
      ]
    },
    {
      "cell_type": "code",
      "execution_count": 17,
      "metadata": {
        "colab": {
          "base_uri": "https://localhost:8080/",
          "height": 185
        },
        "id": "tnbgmZkM0hco",
        "outputId": "048c48e7-957c-4846-a49f-13c0c62f42cf"
      },
      "outputs": [
        {
          "data": {
            "text/plain": [
              "<matplotlib.image.AxesImage at 0x7f44a2edecd0>"
            ]
          },
          "execution_count": 17,
          "metadata": {},
          "output_type": "execute_result"
        },
        {
          "data": {
            "image/png": "[encoded data removed]",
            "text/plain": [
              "<Figure size 432x288 with 1 Axes>"
            ]
          },
          "metadata": {
            "needs_background": "light"
          },
          "output_type": "display_data"
        }
      ],
      "source": [
        "# Нулевая эпоха\n",
        "image_0 = Image.open('figs/output0.png')\n",
        "plt.imshow(image_0)"
      ]
    },
    {
      "cell_type": "code",
      "execution_count": 18,
      "metadata": {},
      "outputs": [
        {
          "data": {
            "text/plain": [
              "<matplotlib.image.AxesImage at 0x7f44a2d77c40>"
            ]
          },
          "execution_count": 18,
          "metadata": {},
          "output_type": "execute_result"
        },
        {
          "data": {
            "image/png": "[encoded data removed]",
            "text/plain": [
              "<Figure size 432x288 with 1 Axes>"
            ]
          },
          "metadata": {
            "needs_background": "light"
          },
          "output_type": "display_data"
        }
      ],
      "source": [
        "# 10я эпоха\n",
        "image_10 = Image.open('figs/output10.png')\n",
        "plt.imshow(image_10)"
      ]
    },
    {
      "cell_type": "code",
      "execution_count": 19,
      "metadata": {
        "colab": {
          "base_uri": "https://localhost:8080/",
          "height": 185
        },
        "id": "1MVtg-vS08mP",
        "outputId": "f8534fc7-d8da-46e0-abde-27b6893fecaf"
      },
      "outputs": [
        {
          "data": {
            "text/plain": [
              "<matplotlib.image.AxesImage at 0x7f44a2cf13d0>"
            ]
          },
          "execution_count": 19,
          "metadata": {},
          "output_type": "execute_result"
        },
        {
          "data": {
            "image/png": "[encoded data removed]",
            "text/plain": [
              "<Figure size 432x288 with 1 Axes>"
            ]
          },
          "metadata": {
            "needs_background": "light"
          },
          "output_type": "display_data"
        }
      ],
      "source": [
        "# 19я эпоха\n",
        "image_19 = Image.open('figs/output19.png')\n",
        "plt.imshow(image_19)"
      ]
    }
  ],
  "metadata": {
    "colab": {
      "collapsed_sections": [],
      "name": "VAE.ipynb",
      "provenance": []
    },
    "kernelspec": {
      "display_name": "Python 3",
      "name": "python3"
    },
    "language_info": {
      "codemirror_mode": {
        "name": "ipython",
        "version": 3
      },
      "file_extension": ".py",
      "mimetype": "text/x-python",
      "name": "python",
      "nbconvert_exporter": "python",
      "pygments_lexer": "ipython3",
      "version": "3.9.2"
    }
  },
  "nbformat": 4,
  "nbformat_minor": 0
}
